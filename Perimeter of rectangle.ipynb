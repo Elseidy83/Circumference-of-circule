{
 "cells": [
  {
   "cell_type": "markdown",
   "metadata": {},
   "source": [
    "# To Calculate the Perimeter   Of shape with N Number of Sides More than 0"
   ]
  },
  {
   "cell_type": "code",
   "execution_count": 21,
   "metadata": {},
   "outputs": [
    {
     "name": "stdout",
     "output_type": "stream",
     "text": [
      "Please Define the number of Sides you have :4\n"
     ]
    }
   ],
   "source": [
    "No_of_sides = int(input('Please Define the number of Sides you have :'))"
   ]
  },
  {
   "cell_type": "code",
   "execution_count": 22,
   "metadata": {},
   "outputs": [
    {
     "name": "stdout",
     "output_type": "stream",
     "text": [
      "please enter the side no 1:4\n",
      "please enter the side no 2:5\n",
      "please enter the side no 3:6\n",
      "please enter the side no 4:8\n"
     ]
    }
   ],
   "source": [
    "sides_length =[]\n",
    "for x in range(No_of_sides):\n",
    "    side_length = int(input('please enter the side no '+str(x+1)+':'))\n",
    "    sides_length.append(side_length)"
   ]
  },
  {
   "cell_type": "code",
   "execution_count": 23,
   "metadata": {},
   "outputs": [
    {
     "name": "stdout",
     "output_type": "stream",
     "text": [
      "the Perimeter Of shape 4 Side is 23 \n"
     ]
    }
   ],
   "source": [
    "print('the Perimeter Of shape {} Side is {} '.format(No_of_sides,sum(sides_length)))"
   ]
  },
  {
   "cell_type": "code",
   "execution_count": null,
   "metadata": {},
   "outputs": [],
   "source": []
  }
 ],
 "metadata": {
  "kernelspec": {
   "display_name": "Python 3",
   "language": "python",
   "name": "python3"
  },
  "language_info": {
   "codemirror_mode": {
    "name": "ipython",
    "version": 3
   },
   "file_extension": ".py",
   "mimetype": "text/x-python",
   "name": "python",
   "nbconvert_exporter": "python",
   "pygments_lexer": "ipython3",
   "version": "3.8.5"
  }
 },
 "nbformat": 4,
 "nbformat_minor": 4
}
