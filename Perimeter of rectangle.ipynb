{
 "cells": [
  {
   "cell_type": "markdown",
   "metadata": {},
   "source": [
    "# To Calculate the Perimeter   Of shape with N Number of Sides More than 0"
   ]
  },
  {
   "cell_type": "code",
   "execution_count": 4,
   "metadata": {
    "scrolled": true
   },
   "outputs": [],
   "source": [
    "rec_side_name = ('high','width')"
   ]
  },
  {
   "cell_type": "code",
   "execution_count": 12,
   "metadata": {},
   "outputs": [
    {
     "name": "stdout",
     "output_type": "stream",
     "text": [
      "Please input the length of high : 30\n",
      "Please input the length of width : 20\n",
      "the Perimeter of recetange of width 30.0 and hight 20.0 is 100.0\n"
     ]
    }
   ],
   "source": [
    "rec_side_lenth = []\n",
    "for x in rec_side_name:\n",
    "    rec_side_len = float(input('Please input the length of '+x+' : '))\n",
    "    rec_side_lenth.append(rec_side_len)\n",
    "    #Perimeter   += rec_side_len*2\n",
    "\n",
    "print('the Perimeter of recetange of width {} and hight {} is {}'.format(rec_side_lenth[0],rec_side_lenth[1],sum(rec_side_lenth)*2))"
   ]
  },
  {
   "cell_type": "code",
   "execution_count": null,
   "metadata": {},
   "outputs": [],
   "source": []
  }
 ],
 "metadata": {
  "kernelspec": {
   "display_name": "Python 3",
   "language": "python",
   "name": "python3"
  },
  "language_info": {
   "codemirror_mode": {
    "name": "ipython",
    "version": 3
   },
   "file_extension": ".py",
   "mimetype": "text/x-python",
   "name": "python",
   "nbconvert_exporter": "python",
   "pygments_lexer": "ipython3",
   "version": "3.8.5"
  }
 },
 "nbformat": 4,
 "nbformat_minor": 4
}
